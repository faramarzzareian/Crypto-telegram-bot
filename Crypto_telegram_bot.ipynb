{
  "nbformat": 4,
  "nbformat_minor": 0,
  "metadata": {
    "colab": {
      "name": "Crypto telegram bot.ipynb",
      "provenance": [],
      "toc_visible": true
    },
    "kernelspec": {
      "name": "python3",
      "display_name": "Python 3"
    },
    "language_info": {
      "name": "python"
    }
  },
  "cells": [
    {
      "cell_type": "code",
      "execution_count": null,
      "metadata": {
        "id": "niDYdHjrUFB0"
      },
      "outputs": [],
      "source": [
        " \n",
        "from pycoingecko import CoinGeckoAPI\n",
        "from telebot import TeleBot\n",
        "BOT_TOKEN = \"write your token here\"\n",
        "coin_client = CoinGeckoAPI()\n",
        "#coin_client.get_price(ids='crypto_id' , vs_currencies='usd')['crypto_id']['usd']\n",
        "bot=TeleBot(BOT_TOKEN)\n",
        "@bot.message_handler(content_types=['text'])\n",
        "def crypto_price_message_handler(message):\n",
        "    A = message.text\n",
        "    d=len(A.split())\n",
        "    for i in range (d): \n",
        "       crypto_id=A.split('-')[0]\n",
        "       crypto_vs=A.split('-')[d]\n",
        "       price_response= coin_client.get_price(ids=crypto_id , vs_currencies=crypto_vs)\n",
        "       \n",
        "\n",
        "    if price_response:\n",
        "      price= price_response[crypto_id] \n",
        "      bot.send_message(chat_id=message.chat.id, text=f\"price of {crypto_id} : {price}\")\n",
        "    else:\n",
        "      bot.send_message(chat_id=message.chat.id,text=f\"The '{crypto_id}' was not found , Correct the input\")\n",
        "if __name__ == '__main__':\n",
        "    bot.polling()"
      ]
    },
    {
      "cell_type": "markdown",
      "source": [
        "# New Section"
      ],
      "metadata": {
        "id": "mJCb3hy1Viyn"
      }
    }
  ]
}